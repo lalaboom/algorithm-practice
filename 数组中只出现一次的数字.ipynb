{
 "cells": [
  {
   "cell_type": "markdown",
   "metadata": {},
   "source": [
    "# 数组中只出现一次的数字\n",
    "\n",
    "题目：\n",
    "\n",
    "一个整型数组里除了两个数字之外，其他的数字都出现了两次。\n",
    "\n",
    "请写程序找出这两个只出现一次的数字。"
   ]
  },
  {
   "cell_type": "markdown",
   "metadata": {},
   "source": [
    "思路：\n",
    "\n",
    "可以用collections模块的count函数来做，\n",
    "\n",
    "也可以建立一个空数组，存放出现一次的数字\n",
    "\n",
    "若一个元素从未在新数组中出现过\n",
    "\n",
    "则添加进去这个元素，\n",
    "\n",
    "若一个元素在这个新数组中出现了两次，\n",
    "\n",
    "则删除新数组中的这个元素\n",
    "\n",
    "最后使数组中只存在出现了一次的元素\n",
    "\n",
    "最后返回这个数组\n",
    "\n"
   ]
  },
  {
   "cell_type": "code",
   "execution_count": null,
   "metadata": {},
   "outputs": [],
   "source": [
    "class Solution:\n",
    "    # 返回[a,b] 其中ab是出现一次的两个数字\n",
    "    def FindNumsAppearOnce(self, array):\n",
    "        item = []\n",
    "        for i in array:\n",
    "            if i in item:\n",
    "                item.remove(i)\n",
    "            else:\n",
    "                item.append(i)\n",
    "        return item"
   ]
  }
 ],
 "metadata": {
  "kernelspec": {
   "display_name": "Python 3",
   "language": "python",
   "name": "python3"
  },
  "language_info": {
   "codemirror_mode": {
    "name": "ipython",
    "version": 3
   },
   "file_extension": ".py",
   "mimetype": "text/x-python",
   "name": "python",
   "nbconvert_exporter": "python",
   "pygments_lexer": "ipython3",
   "version": "3.7.2"
  }
 },
 "nbformat": 4,
 "nbformat_minor": 2
}
