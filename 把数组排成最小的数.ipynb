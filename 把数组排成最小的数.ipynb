{
  "nbformat": 4,
  "nbformat_minor": 0,
  "metadata": {
    "colab": {
      "name": "把数组排成最小的数",
      "version": "0.3.2",
      "provenance": []
    },
    "kernelspec": {
      "name": "python3",
      "display_name": "Python 3"
    }
  },
  "cells": [
    {
      "cell_type": "markdown",
      "metadata": {
        "id": "aOhK-ivOz_92",
        "colab_type": "text"
      },
      "source": [
        "# 把数组排成最小的数"
      ]
    },
    {
      "cell_type": "markdown",
      "metadata": {
        "id": "zMVdFuqQz88s",
        "colab_type": "text"
      },
      "source": [
        "题目：\n",
        "\n",
        "输入一个正整数数组，把数组里所有数字拼接起来排成一个数，打印能拼接出的所有数字中最小的一个。例如输入数组{3，32，321}，则打印出这三个数字能排成的最小数字为321323。"
      ]
    },
    {
      "cell_type": "markdown",
      "metadata": {
        "id": "KiGTkjm-z_IA",
        "colab_type": "text"
      },
      "source": [
        "思路：\n",
        "\n",
        "排序规则如下：\n",
        "\n",
        "若ab > ba 则 a 大于 b，\n",
        "\n",
        "若ab < ba 则 a 小于 b，\n",
        "\n",
        "若ab = ba 则 a 等于 b；\n",
        "\n",
        "根据上述规则，我们需要先将数字转换成字符串再进行比较，因为需要串起来进行比较。比较完之后，按顺序输出即可。\n"
      ]
    },
    {
      "cell_type": "code",
      "metadata": {
        "id": "Y8PTIfQxz06w",
        "colab_type": "code",
        "colab": {}
      },
      "source": [
        "class Solution:\n",
        "    def PrintMinNumber(self, numbers):\n",
        "        compare = lambda a,b:cmp(str(a) + str(b), str(b) + str(a))\n",
        "        result = sorted(numbers,cmp = compare)\n",
        "        return ''.join(str(s) for s in result)"
      ],
      "execution_count": 0,
      "outputs": []
    }
  ]
}