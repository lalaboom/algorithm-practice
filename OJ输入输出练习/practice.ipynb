{
 "cells": [
  {
   "cell_type": "code",
   "execution_count": 3,
   "metadata": {},
   "outputs": [],
   "source": [
    "import sys "
   ]
  },
  {
   "cell_type": "markdown",
   "metadata": {},
   "source": [
    "### sys模块包含了与python解释器和它的环境有关的函数\n",
    "### 这里主要学习一下sys.stdin,sys.stdout,sys.stderr\n",
    "### 1. sys.stdin"
   ]
  },
  {
   "cell_type": "code",
   "execution_count": 5,
   "metadata": {},
   "outputs": [
    {
     "output_type": "stream",
     "name": "stdout",
     "text": "please input your name:\nHello Lina\n"
    }
   ],
   "source": [
    "# e.g.\n",
    "print(\"please input your name:\")\n",
    "name = sys.stdin.readline()\n",
    "#输入Lina，返回\n",
    "name = \"Lina\"\n",
    "print(\"Hello\",name)"
   ]
  },
  {
   "cell_type": "markdown",
   "metadata": {},
   "source": [
    "### 可以看出，sys.std.readline 是一种标准化输入的方法\n",
    "### python3中使用sys.stdin.readline()可以实现标准输入，其中默认输入的格式是 字符串，如果是int，float类型则需要强制转换。"
   ]
  },
  {
   "cell_type": "code",
   "execution_count": 6,
   "metadata": {},
   "outputs": [
    {
     "output_type": "stream",
     "name": "stdout",
     "text": "Please input a number:\n"
    }
   ],
   "source": [
    "import sys\n",
    "try:\n",
    "    while True:\n",
    "        print('Please input a number:')\n",
    "        n = int(sys.stdin.readline().strip('\\n')) #strip('\\n')表示以\\n分隔，否则输出是“字符串+\\n”的形式\n",
    "        print('Please input some numbers:')\n",
    "        sn = sys.stdin.readline().strip()#若是多输入，strip()默认是以空格分隔，返回一个包含多个字符串的list。\n",
    "        if sn == '':\n",
    "            break\n",
    "        sn = list(map(int,sn.split())) #如果要强制转换成int等类型，可以调用map()函数。\n",
    "        print(n)\n",
    "        print(sn,'\\n')\n",
    "except:\n",
    "    pass"
   ]
  },
  {
   "cell_type": "markdown",
   "metadata": {},
   "source": [
    "### 如果是多行输入，需要用到readlines()"
   ]
  },
  {
   "cell_type": "code",
   "execution_count": null,
   "metadata": {},
   "outputs": [],
   "source": [
    "for line in sys.stdin.readlines():\n",
    "    numbers = line.strip()\n",
    "    long = len(numbers)"
   ]
  },
  {
   "cell_type": "markdown",
   "metadata": {},
   "source": [
    "### python3中sys.stdin与input的区别\n",
    "input()方法和stdin()类似，不同的是input()括号内可以直接填写说明文字"
   ]
  },
  {
   "cell_type": "code",
   "execution_count": null,
   "metadata": {},
   "outputs": [],
   "source": [
    "while True:\n",
    "    n = int(input('Please input a number:\\n'))\n",
    "    sn = list(map(int,input('Please input some numbers:\\n').split())) #split()以空格分隔\n",
    "    print(n)\n",
    "    print(sn,'\\n')"
   ]
  },
  {
   "cell_type": "markdown",
   "metadata": {},
   "source": [
    "练习题1 计算a+b\n",
    "输入包括两个正整数a，b(1<=a，b<=10^9),输入数据包括多组\n",
    "输出a+b的结果\n",
    "\n",
    "https://ac.nowcoder.com/acm/contest/320#question"
   ]
  },
  {
   "cell_type": "code",
   "execution_count": null,
   "metadata": {},
   "outputs": [],
   "source": [
    "import sys\n",
    "for line in sys.stdin.readlines():\n",
    "    numbers = list(map(int,line.split()))\n",
    "    print(sum(numbers))"
   ]
  },
  {
   "cell_type": "markdown",
   "metadata": {},
   "source": [
    "\n",
    "输入第一行包括一个数据组数t(1 <= t <= 100)\n",
    "\n",
    "接下来每行包括两个正整数a,b(1 <= a, b <= 10^9)"
   ]
  },
  {
   "cell_type": "code",
   "execution_count": null,
   "metadata": {},
   "outputs": [],
   "source": [
    "#我的答案\n",
    "import sys\n",
    "for line in sys.stdin.readlines():\n",
    "    numbers = list(map(int,line.split()))\n",
    "    if len(numbers)==2:\n",
    "        print(sum(numbers))"
   ]
  },
  {
   "cell_type": "markdown",
   "metadata": {},
   "source": [
    "\n",
    "输入包括两个正整数a,b(1 <= a, b <= 10^9),输入数据有多组, 如果输入为0 0则结束输入"
   ]
  },
  {
   "cell_type": "code",
   "execution_count": null,
   "metadata": {},
   "outputs": [],
   "source": [
    "import sys\n",
    "for line in sys.stdin.readlines():\n",
    "    numbers = list(map(int,line.split()))\n",
    "    if (numbers[0]==0) and (numbers[1]==0) :\n",
    "        break;\n",
    "    else:\n",
    "        print(sum(numbers))"
   ]
  },
  {
   "cell_type": "markdown",
   "metadata": {},
   "source": [
    "\n",
    "题目描述 \n",
    "对输入的字符串进行排序后输出\n",
    "\n",
    "输入描述:\n",
    "输入有两行，第一行n\n",
    "\n",
    "第二行是n个空格隔开的字符串\n",
    "\n",
    "输出描述:\n",
    "输出一行排序后的字符串，空格隔开，无结尾空格"
   ]
  },
  {
   "cell_type": "code",
   "execution_count": null,
   "metadata": {},
   "outputs": [],
   "source": [
    "import sys\n",
    "n = int(sys.stdin.readline()) #输入数据默认是字符串，如果要把它作为整数使用需要转换\n",
    "zimu = list(sys.stdin.readline().split())\n",
    "zimu.sort()\n",
    "for i in range(n):\n",
    "    print(zimu[i],end = \" \") #print()默认输出是以\\n结尾，可以更改end = \" \" 使其以空格结尾"
   ]
  }
 ],
 "metadata": {
  "kernelspec": {
   "display_name": "'Python Interactive'",
   "language": "python",
   "name": "500cb2b4-dac7-4cdc-aa9c-1c932054949c"
  },
  "language_info": {
   "codemirror_mode": {
    "name": "ipython",
    "version": 3
   },
   "file_extension": ".py",
   "mimetype": "text/x-python",
   "name": "python",
   "nbconvert_exporter": "python",
   "pygments_lexer": "ipython3",
   "version": "3.7.2-final"
  }
 },
 "nbformat": 4,
 "nbformat_minor": 2
}