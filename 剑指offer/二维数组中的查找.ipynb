{
  "nbformat": 4,
  "nbformat_minor": 0,
  "metadata": {
    "colab": {
      "name": "二维数组中的查找.ipynb",
      "version": "0.3.2",
      "provenance": [],
      "collapsed_sections": []
    },
    "kernelspec": {
      "name": "python3",
      "display_name": "Python 3"
    }
  },
  "cells": [
    {
      "cell_type": "markdown",
      "metadata": {
        "id": "HJn7hoNme5sF",
        "colab_type": "text"
      },
      "source": [
        "# 数组\n",
        "# · 二维数组中的查找\n"
      ]
    },
    {
      "cell_type": "markdown",
      "metadata": {
        "id": "cQ1iiV7xfHXK",
        "colab_type": "text"
      },
      "source": [
        "在一个**二维数组**中（每个一维数组的**长度相同**），每一行都按照从左到右**递增**的顺序排序，每一列都按照从上到下**递增**的顺序排序。请完成一个函数，输入这样的一个二维数组和一个整数，判断数组中是否含有该整数。"
      ]
    },
    {
      "cell_type": "markdown",
      "metadata": {
        "id": "t0MeqpKmfVuM",
        "colab_type": "text"
      },
      "source": [
        "思路:\n",
        "二维行列相同数组，想象成一个矩阵，从此矩阵中搜索目标值。\n",
        "结果有两个：找到或者找不到\n",
        "最粗暴的方法试一行一行，每一行从左到右，然后再下一行从左到右查找，但会漏掉题目中的递增的条件。\n",
        "所以思路是从左下角开始查找，如果比左下角数值大就向右查找，如果比左下角数值小就向上查找。\n",
        "这样搜寻路径只有两个，如果是从矩阵中心开始查找，搜寻路径就是四个，无法通过与目标函数的大小比较来确定搜寻路径，所以还是从左下角找。从右上角找也可以。"
      ]
    },
    {
      "cell_type": "code",
      "metadata": {
        "id": "4nfNOp2BeSgW",
        "colab_type": "code",
        "colab": {}
      },
      "source": [
        "class Solution:\n",
        "    # array 二维列表\n",
        "    def Find(self, target, array):\n",
        "        rows = len(array) - 1\n",
        "        cols = len(array[0]) - 1\n",
        "        i = rows\n",
        "        j = 0\n",
        "        while j<=cols and i>=0:\n",
        "            if target < array[i][j]:\n",
        "                i -= 1\n",
        "            elif target > array[i][j]:\n",
        "                j += 1\n",
        "            else:\n",
        "                return True\n",
        "        return False"
      ],
      "execution_count": 0,
      "outputs": []
    }
  ]
}