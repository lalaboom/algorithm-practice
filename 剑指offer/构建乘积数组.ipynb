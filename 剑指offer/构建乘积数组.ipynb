{
 "cells": [
  {
   "cell_type": "markdown",
   "metadata": {},
   "source": [
    "# 构建乘积数组\n",
    "\n",
    "题目：\n",
    "\n",
    "给定一个数组A[0,1,...,n-1],\n",
    "\n",
    "请构建一个数组B[0,1,...,n-1],\n",
    "\n",
    "其中B中的元素B[i]=A[0]*A[1]*...*A[i-1]*A[i+1]*...*A[n-1]。\n",
    "\n",
    "不能使用除法。"
   ]
  },
  {
   "cell_type": "markdown",
   "metadata": {},
   "source": [
    "思路：\n",
    "\n",
    "轮到第几个元素把那个元素设为1，然后再设会来即可。\n",
    "\n",
    "使用reduce+lamdba，可以对数组中的所有元素进行自动乘法操作。"
   ]
  },
  {
   "cell_type": "code",
   "execution_count": null,
   "metadata": {},
   "outputs": [],
   "source": [
    "class Solution:\n",
    "    def multiply(self, A):\n",
    "        length = len(A)\n",
    "        B=[]\n",
    "        for i in range(0,length):\n",
    "            temp = A[i]\n",
    "            A[i] = 1\n",
    "            B.append(reduce(lambda x,y:x*y,A))\n",
    "            A[i] = temp\n",
    "        return(B)"
   ]
  }
 ],
 "metadata": {
  "kernelspec": {
   "display_name": "Python 3",
   "language": "python",
   "name": "python3"
  },
  "language_info": {
   "codemirror_mode": {
    "name": "ipython",
    "version": 3
   },
   "file_extension": ".py",
   "mimetype": "text/x-python",
   "name": "python",
   "nbconvert_exporter": "python",
   "pygments_lexer": "ipython3",
   "version": "3.7.2"
  }
 },
 "nbformat": 4,
 "nbformat_minor": 2
}
