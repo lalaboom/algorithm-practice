{
  "nbformat": 4,
  "nbformat_minor": 0,
  "metadata": {
    "colab": {
      "name": "调整数组顺序.ipynb",
      "version": "0.3.2",
      "provenance": []
    },
    "kernelspec": {
      "name": "python3",
      "display_name": "Python 3"
    }
  },
  "cells": [
    {
      "cell_type": "markdown",
      "metadata": {
        "id": "0B068eMgoDo8",
        "colab_type": "text"
      },
      "source": [
        "# 调整数组顺序"
      ]
    },
    {
      "cell_type": "markdown",
      "metadata": {
        "id": "-ZNoi6sDoHGS",
        "colab_type": "text"
      },
      "source": [
        "题目：\n",
        "\n",
        "输入一个整数数组，实现一个函数来调整该数组中数字的顺序，使得所有的奇数位于数组的前半部分，所有的偶数位于数组的后半部分，并保证奇数和奇数，偶数和偶数之间的相对位置不变。"
      ]
    },
    {
      "cell_type": "markdown",
      "metadata": {
        "id": "WX4r2SM3oNzy",
        "colab_type": "text"
      },
      "source": [
        "思路：\n",
        "\n",
        "原本是想挨个查找，对array中的每个数进行除二判断，如果是偶数就往后移一位\n",
        "但后来感觉有点麻烦，参考别人思路发现可以直接通过array中除二构造两个奇数组合偶数组，然后直接奇数组加偶数组合并。"
      ]
    },
    {
      "cell_type": "code",
      "metadata": {
        "id": "BfkPVqX-n8oy",
        "colab_type": "code",
        "colab": {}
      },
      "source": [
        "class Solution:\n",
        "    def reOrderArray(self, array):\n",
        "        #old 奇数\n",
        "        #even 偶数\n",
        "        length = len(array)\n",
        "        odd,even = [],[]\n",
        "        #for i in range (1,length - 1):\n",
        "        for item in array:\n",
        "            if (item % 2)==1:\n",
        "                odd.append(item)\n",
        "            else:\n",
        "                even.append(item)\n",
        "        return odd + even"
      ],
      "execution_count": 0,
      "outputs": []
    }
  ]
}