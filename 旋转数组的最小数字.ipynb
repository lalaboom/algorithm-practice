{
  "nbformat": 4,
  "nbformat_minor": 0,
  "metadata": {
    "colab": {
      "name": "旋转数组的最小数字.ipynb",
      "version": "0.3.2",
      "provenance": []
    },
    "kernelspec": {
      "name": "python3",
      "display_name": "Python 3"
    }
  },
  "cells": [
    {
      "cell_type": "markdown",
      "metadata": {
        "id": "1CKuzwThkxDu",
        "colab_type": "text"
      },
      "source": [
        "# 数组·旋转数组的最小数字"
      ]
    },
    {
      "cell_type": "markdown",
      "metadata": {
        "id": "5ByE9-0-ktpm",
        "colab_type": "text"
      },
      "source": [
        "题目: \n",
        "\n",
        "把一个数组最开始的若干个元素搬到数组的末尾，我们称之为数组的旋转。 输入一个非减排序的数组的一个旋转，输出旋转数组的最小元素。 例如数组{3,4,5,1,2}为{1,2,3,4,5}的一个旋转，该数组的最小值为1。 NOTE：给出的所有元素都大于0，若数组大小为0，请返回0\n"
      ]
    },
    {
      "cell_type": "markdown",
      "metadata": {
        "id": "g22oGNxXk_Oq",
        "colab_type": "text"
      },
      "source": [
        "思路：\n",
        "\n",
        "简单的最小数比较"
      ]
    },
    {
      "cell_type": "code",
      "metadata": {
        "id": "1iya79VKkqQH",
        "colab_type": "code",
        "colab": {}
      },
      "source": [
        "class Solution:\n",
        "    def minNumberInRotateArray(self, rotateArray):\n",
        "        length = len(rotateArray)\n",
        "        if length == 0:\n",
        "            return 0\n",
        "        else:\n",
        "            small = rotateArray[0]\n",
        "            for i in range (0,length-1):\n",
        "                if small > rotateArray[i]:\n",
        "                    small = rotateArray[i]\n",
        "            return small\n",
        "            "
      ],
      "execution_count": 0,
      "outputs": []
    }
  ]
}