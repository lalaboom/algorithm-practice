{
  "nbformat": 4,
  "nbformat_minor": 0,
  "metadata": {
    "colab": {
      "name": "连续子数组的最大和.ipynb",
      "version": "0.3.2",
      "provenance": []
    },
    "kernelspec": {
      "name": "python3",
      "display_name": "Python 3"
    }
  },
  "cells": [
    {
      "cell_type": "markdown",
      "metadata": {
        "id": "Bjl7fMK1T9lk",
        "colab_type": "text"
      },
      "source": [
        "# 连续子数组的最大和\n",
        "题目：\n",
        "\n",
        "例如:{6,-3,-2,7,-15,1,2,2},连续子向量的最大和为8(从第0个开始,到第3个为止)。给一个数组，返回它的最大连续子序列的和，你会不会被他忽悠住？(子向量的长度至少是1)"
      ]
    },
    {
      "cell_type": "markdown",
      "metadata": {
        "id": "YQTxz8vRUHoZ",
        "colab_type": "text"
      },
      "source": [
        "思路：注意子序列不一定是从第一位开始加的，只要能得到最大子序列，初始位可能在任何一位\n",
        "\n",
        "累加的子数组和，如果大于零，那么我们继续累加就行；否则，则需要剔除原来的累加和重新开始。\n",
        "\n",
        "因为一个小负数可能产生不了大的影响，后面可能有正数弥补回来\n",
        "\n",
        "但如果负数过大，后面的数可能无法弥补\n",
        "\n",
        "而判断该负数是否影响大的方法是\n",
        "\n",
        "看加上这个负数后子序列是否还大于零\n"
      ]
    },
    {
      "cell_type": "code",
      "metadata": {
        "id": "ddo7EgT3Uw8U",
        "colab_type": "code",
        "colab": {}
      },
      "source": [
        "class Solution:\n",
        "    def FindGreatestSumOfSubArray(self, array):\n",
        "        maxvalue = array[0]\n",
        "        temp = maxvalue\n",
        "        for i in range(1,len(array)):\n",
        "            if temp < 0:\n",
        "                temp = array[i]\n",
        "            else:\n",
        "                temp = temp + array[i]\n",
        "            if temp > maxvalue :\n",
        "                maxvalue = temp\n",
        "        return maxvalue"
      ],
      "execution_count": 0,
      "outputs": []
    },
    {
      "cell_type": "code",
      "metadata": {
        "id": "yYXbUdzMPHms",
        "colab_type": "code",
        "colab": {}
      },
      "source": [
        ""
      ],
      "execution_count": 0,
      "outputs": []
    }
  ]
}