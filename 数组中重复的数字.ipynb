{
 "cells": [
  {
   "cell_type": "markdown",
   "metadata": {},
   "source": [
    "# 数组中重复的数字\n",
    "\n",
    "题目\n",
    "\n",
    "在一个长度为n的数组里的所有数字都在0到n-1的范围内。 \n",
    "\n",
    "数组中某些数字是重复的，但不知道有几个数字是重复的。\n",
    "\n",
    "也不知道每个数字重复几次。请找出数组中任意一个重复的数字。 \n",
    "\n",
    "例如，如果输入长度为7的数组{2,3,1,0,2,5,3}，那么对应的输出是第一个重复的数字2。\n"
   ]
  },
  {
   "cell_type": "markdown",
   "metadata": {},
   "source": [
    "思路：注意，它这里说的不太明确，简单记为，有重复数字，输出Ture，重复数字给duplication[0]\n",
    "无重复数字，返回Flase\n",
    "\n",
    "直接用collection模块中的count函数，这个函数可以直接统计数组中的每个值和在数组中的出现的次数\n",
    "\n",
    "参数：k,v in collections.Counter.items()\n",
    "\n",
    "k是数组中的参数，v是出现的次数"
   ]
  },
  {
   "cell_type": "code",
   "execution_count": null,
   "metadata": {},
   "outputs": [],
   "source": [
    "import collections\n",
    "class Solution:\n",
    "    # 这里要特别注意~找到任意重复的一个值并赋值到duplication[0]\n",
    "    # 函数返回True/False\n",
    "    def duplicate(self, numbers, duplication):\n",
    "        # write code here\n",
    "        flag=False\n",
    "        c=collections.Counter(numbers)\n",
    "        for k,v in c.items():\n",
    "            if v>1:\n",
    "                duplication[0]=k\n",
    "                flag=True\n",
    "                break\n",
    "        return flag"
   ]
  }
 ],
 "metadata": {
  "kernelspec": {
   "display_name": "Python 3",
   "language": "python",
   "name": "python3"
  },
  "language_info": {
   "codemirror_mode": {
    "name": "ipython",
    "version": 3
   },
   "file_extension": ".py",
   "mimetype": "text/x-python",
   "name": "python",
   "nbconvert_exporter": "python",
   "pygments_lexer": "ipython3",
   "version": "3.7.2"
  }
 },
 "nbformat": 4,
 "nbformat_minor": 2
}
