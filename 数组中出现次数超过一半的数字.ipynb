{
  "nbformat": 4,
  "nbformat_minor": 0,
  "metadata": {
    "colab": {
      "name": "数组中出现次数超过一半的数字.ipynb",
      "version": "0.3.2",
      "provenance": []
    },
    "kernelspec": {
      "name": "python3",
      "display_name": "Python 3"
    }
  },
  "cells": [
    {
      "cell_type": "markdown",
      "metadata": {
        "id": "t_P-drx5OVT6",
        "colab_type": "text"
      },
      "source": [
        "# 数组中出现次数超过一半的数字\n",
        "题目：\n",
        "\n",
        "数组中有一个数字出现的次数超过数组长度的一半，请找出这个数字。例如输入一个长度为9的数组{1,2,3,2,2,2,5,4,2}。由于数字2在数组中出现了5次，超过数组长度的一半，因此输出2。如果不存在则输出0。"
      ]
    },
    {
      "cell_type": "markdown",
      "metadata": {
        "id": "II8HerzQOcJy",
        "colab_type": "text"
      },
      "source": [
        "思路：\n",
        "\n",
        "创建一个字典，索引由于是非变量，所以用数组中的元素表示，字典中的元素可以是变量\n",
        "所以用于存储出现次数，每次出现索引元素便加一"
      ]
    },
    {
      "cell_type": "code",
      "metadata": {
        "id": "4vPtHxoXOMGm",
        "colab_type": "code",
        "colab": {}
      },
      "source": [
        "class Solution:\n",
        "    def MoreThanHalfNum_Solution(self, numbers):\n",
        "        times = {}\n",
        "        length = len(numbers)\n",
        "        mid = length / 2.0\n",
        "        for x in numbers:\n",
        "            if x in times:\n",
        "                times[x] += 1\n",
        "            else:\n",
        "                times[x] = 1\n",
        "        for (x,n) in times.items():\n",
        "            if n > mid:\n",
        "                return x\n",
        "        return 0"
      ],
      "execution_count": 0,
      "outputs": []
    }
  ]
}